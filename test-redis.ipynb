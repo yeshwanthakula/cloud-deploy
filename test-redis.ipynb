{
 "cells": [
  {
   "cell_type": "code",
   "execution_count": null,
   "metadata": {},
   "outputs": [
    {
     "name": "stdout",
     "output_type": "stream",
     "text": [
      "12\n",
      "[b'app_logs:2024-12-27T11:33:58.225727', b'app_logs:2024-12-27T11:33:58.741815', b'app_logs:2024-12-27T17:47:57.524730', b'app_logs:2024-12-27T11:33:58.643941', b'app_logs:2024-12-27T17:52:50.141568', b'app_logs:2024-12-27T11:33:58.242861', b'app_logs:2024-12-27T11:33:56.824131', b'app_logs:2024-12-27T11:33:59.356635', b'app_logs:2024-12-27T17:47:56.022410', b'app_logs:2024-12-27T11:33:58.551122', b'app_logs:2024-12-27T11:33:59.364964', b'app_logs:2024-12-27T11:33:59.256795', b'app_logs:2024-12-27T11:33:58.232673', b'app_logs:2024-12-27T11:33:56.801604', b'app_logs:2024-12-27T11:33:15.456570', b'app_logs:2024-12-27T17:52:49.989936']\n"
     ]
    }
   ],
   "source": [
    "import redis\n",
    "redis_url  = \"\"\n",
    "\n",
    "redis_client = redis.from_url(redis_url)\n",
    "print(redis_client.zcard('log_timeline'))\n",
    "print(redis_client.keys('app_logs*'))   "
   ]
  },
  {
   "cell_type": "code",
   "execution_count": 6,
   "metadata": {},
   "outputs": [
    {
     "data": {
      "text/plain": [
       "b'{\"timestamp\": \"2024-12-27T11:33:58.741815\", \"level\": \"INFO\", \"message\": \"Uploading /home/app/output/dist/assets/index-IGAHEtWQ.js\", \"additional_data\": {}}'"
      ]
     },
     "execution_count": 6,
     "metadata": {},
     "output_type": "execute_result"
    }
   ],
   "source": [
    "redis_client.get('app_logs:2024-12-27T11:33:58.741815')"
   ]
  },
  {
   "cell_type": "code",
   "execution_count": null,
   "metadata": {},
   "outputs": [],
   "source": []
  }
 ],
 "metadata": {
  "kernelspec": {
   "display_name": "myenv",
   "language": "python",
   "name": "python3"
  },
  "language_info": {
   "codemirror_mode": {
    "name": "ipython",
    "version": 3
   },
   "file_extension": ".py",
   "mimetype": "text/x-python",
   "name": "python",
   "nbconvert_exporter": "python",
   "pygments_lexer": "ipython3",
   "version": "3.12.2"
  }
 },
 "nbformat": 4,
 "nbformat_minor": 2
}
